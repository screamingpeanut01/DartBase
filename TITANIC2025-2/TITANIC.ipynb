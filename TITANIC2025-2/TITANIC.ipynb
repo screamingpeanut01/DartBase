{
 "cells": [
  {
   "cell_type": "markdown",
   "id": "3bb052fb",
   "metadata": {},
   "source": [
    "## TITANIC"
   ]
  },
  {
   "cell_type": "code",
   "execution_count": null,
   "id": "98109035",
   "metadata": {
    "vscode": {
     "languageId": "plaintext"
    }
   },
   "outputs": [],
   "source": []
  },
  {
   "cell_type": "markdown",
   "id": "faf5a94c",
   "metadata": {},
   "source": []
  }
 ],
 "metadata": {
  "language_info": {
   "name": "python"
  }
 },
 "nbformat": 4,
 "nbformat_minor": 5
}
