{
 "cells": [
  {
   "cell_type": "markdown",
   "metadata": {},
   "source": [
    "# Week2: statsmodels를 이용한 회귀분석"
   ]
  },
  {
   "cell_type": "markdown",
   "metadata": {},
   "source": [
    "1주차에 생성한 선형 회귀 모델을 `statsmodels` 라이브러리를 사용하여 더 깊이 분석합니다.\n",
    "각 변수(Feature)의 통계적 유의성을 확인하고, 모델의 설명력을 평가합니다."
   ]
  },
  {
   "cell_type": "markdown",
   "metadata": {},
   "source": [
    "## 1. 데이터 준비 및 statsmodels 회귀모델 생성"
   ]
  },
  {
   "cell_type": "code",
   "execution_count": 3,
   "metadata": {},
   "outputs": [],
   "source": [
    "import pandas as pd\n",
    "import numpy as np\n",
    "from sklearn.datasets import fetch_openml\n",
    "import statsmodels.api as sm\n",
    "\n",
    "# scikit-learn 1.2 버전부터 load_boston 함수가 제거되었습니다.\n",
    "# fetch_openml을 사용하여 동일한 데이터셋을 불러옵니다.\n",
    "boston = fetch_openml(name='boston', version=1, as_frame=True, parser='liac-arff')\n",
    "df = pd.DataFrame(boston.data, columns=boston.feature_names)\n",
    "df['PRICE'] = boston.target\n",
    "\n",
    "# 특성(X)과 타겟(y) 분리\n",
    "X = df.drop('PRICE', axis=1)\n",
    "y = df['PRICE']\n",
    "\n",
    "# 데이터 타입을 numeric으로 변환하여 object dtype 오류 해결\n",
    "X = X.apply(pd.to_numeric, errors='coerce')\n",
    "y = pd.to_numeric(y, errors='coerce')\n",
    "\n",
    "# NaN 값이 있다면 제거\n",
    "if X.isnull().any().any() or y.isnull().any():\n",
    "    mask = ~(X.isnull().any(axis=1) | y.isnull())\n",
    "    X = X[mask]\n",
    "    y = y[mask]\n",
    "\n",
    "# statsmodels OLS 모델을 위해 X 변수에 상수항(intercept) 추가\n",
    "X_const = sm.add_constant(X)\n",
    "\n",
    "# OLS 모델 적합\n",
    "model = sm.OLS(y, X_const)\n",
    "results = model.fit()\n"
   ]
  },
  {
   "cell_type": "markdown",
   "metadata": {},
   "source": [
    "## 2. 회귀분석 리포트 출력 및 해석"
   ]
  },
  {
   "cell_type": "code",
   "execution_count": 4,
   "metadata": {},
   "outputs": [
    {
     "name": "stdout",
     "output_type": "stream",
     "text": [
      "                            OLS Regression Results                            \n",
      "==============================================================================\n",
      "Dep. Variable:                  PRICE   R-squared:                       0.741\n",
      "Model:                            OLS   Adj. R-squared:                  0.734\n",
      "Method:                 Least Squares   F-statistic:                     108.1\n",
      "Date:                Mon, 15 Sep 2025   Prob (F-statistic):          6.72e-135\n",
      "Time:                        23:27:43   Log-Likelihood:                -1498.8\n",
      "No. Observations:                 506   AIC:                             3026.\n",
      "Df Residuals:                     492   BIC:                             3085.\n",
      "Df Model:                          13                                         \n",
      "Covariance Type:            nonrobust                                         \n",
      "==============================================================================\n",
      "                 coef    std err          t      P>|t|      [0.025      0.975]\n",
      "------------------------------------------------------------------------------\n",
      "const         36.4595      5.103      7.144      0.000      26.432      46.487\n",
      "CRIM          -0.1080      0.033     -3.287      0.001      -0.173      -0.043\n",
      "ZN             0.0464      0.014      3.382      0.001       0.019       0.073\n",
      "INDUS          0.0206      0.061      0.334      0.738      -0.100       0.141\n",
      "CHAS           2.6867      0.862      3.118      0.002       0.994       4.380\n",
      "NOX          -17.7666      3.820     -4.651      0.000     -25.272     -10.262\n",
      "RM             3.8099      0.418      9.116      0.000       2.989       4.631\n",
      "AGE            0.0007      0.013      0.052      0.958      -0.025       0.027\n",
      "DIS           -1.4756      0.199     -7.398      0.000      -1.867      -1.084\n",
      "RAD            0.3060      0.066      4.613      0.000       0.176       0.436\n",
      "TAX           -0.0123      0.004     -3.280      0.001      -0.020      -0.005\n",
      "PTRATIO       -0.9527      0.131     -7.283      0.000      -1.210      -0.696\n",
      "B              0.0093      0.003      3.467      0.001       0.004       0.015\n",
      "LSTAT         -0.5248      0.051    -10.347      0.000      -0.624      -0.425\n",
      "==============================================================================\n",
      "Omnibus:                      178.041   Durbin-Watson:                   1.078\n",
      "Prob(Omnibus):                  0.000   Jarque-Bera (JB):              783.126\n",
      "Skew:                           1.521   Prob(JB):                    8.84e-171\n",
      "Kurtosis:                       8.281   Cond. No.                     1.51e+04\n",
      "==============================================================================\n",
      "\n",
      "Notes:\n",
      "[1] Standard Errors assume that the covariance matrix of the errors is correctly specified.\n",
      "[2] The condition number is large, 1.51e+04. This might indicate that there are\n",
      "strong multicollinearity or other numerical problems.\n"
     ]
    }
   ],
   "source": [
    "# 회귀분석 결과 요약 출력\n",
    "print(results.summary())"
   ]
  },
  {
   "cell_type": "markdown",
   "metadata": {},
   "source": [
    "## 3. 결과 해석\n",
    "\n",
    "### 각 변수의 p-value (P>|t|)\n",
    "p-value는 각 변수의 계수가 통계적으로 얼마나 유의미한지를 나타내는 지표입니다. 일반적으로 p-value가 0.05보다 작을 때 (유의수준 5% 기준), 해당 변수는 종속변수(PRICE)에 유의미한 영향을 미친다고 해석합니다.\n",
    "\n",
    "- **유의미한 변수 (p-value < 0.05)**: `const`, `CRIM`, `ZN`, `CHAS`, `NOX`, `RM`, `DIS`, `RAD`, `TAX`, `PTRATIO`, `B`, `LSTAT`\n",
    "  - 이 변수들은 주택 가격 예측에 통계적으로 중요한 역할을 합니다.\n",
    "- **유의미하지 않은 변수 (p-value >= 0.05)**: `INDUS`, `AGE`\n",
    "  - `INDUS`(비소매상업지역 토지 비율)와 `AGE`(오래된 주택 비율)는 이번 모델에서 주택 가격에 미치는 영향이 통계적으로 유의미하지 않다고 나타났습니다. 즉, 이 변수들이 변하더라도 주택 가격의 변동을 설명하기 어렵다는 의미입니다.\n",
    "\n",
    "### R-squared / Adj. R-squared 값\n",
    "\n",
    "- **R-squared (결정계수)**: 0.741\n",
    "  - 모델의 설명력을 나타내는 지표로, 0과 1 사이의 값을 가집니다. 1에 가까울수록 모델이 데이터를 잘 설명한다는 의미입니다. R-squared가 0.741이라는 것은 이 모델이 **주택 가격 변동의 약 74.1%를 설명**한다는 것을 의미합니다. 비교적 높은 설명력을 가진다고 볼 수 있습니다.\n",
    "\n",
    "- **Adj. R-squared (조정된 결정계수)**: 0.734\n",
    "  - 독립변수의 개수가 늘어날수록 R-squared 값이 증가하는 경향을 보정해주는 지표입니다. 불필요한 변수가 추가될 경우 이 값은 감소하므로, 서로 다른 모델을 비교할 때 더 적합한 척도입니다. R-squared 값과 큰 차이가 없으므로, 현재 모델에 불필요한 변수가 많지는 않다고 해석할 수 있습니다.\n",
    "\n",
    "### 종합\n",
    "\n",
    "이 모델은 보스턴 주택 가격 데이터의 변동성을 약 74% 설명할 수 있으며, 이는 꽤 준수한 성능이라고 생각됩니다. 대부분의 변수들이 통계적으로 유의미하게 나타나 주택 가격 예측에 기여하고 있음을 확인했습니다. \n",
    "\n",
    "다만, `INDUS`와 `AGE` 변수는 p-value가 높아 유의미하지 않은 것으로 나타났습니다. 모델의 성능을 더 개선하기 위해서는 이 변수들을 제외하고 모델을 다시 만들거나, 다른 변수와 조합하여 새로운 파생 변수를 만드는 방법을 고려해볼 수 있습니다. 또한, 데이터에 비선형 관계가 존재할 수 있으므로, 이를 반영할 수 있는 다항 회귀나 다른 고급 모델을 사용하면 설명력을 더 높일 수 있을 것입니다."
   ]
  },
  {
   "cell_type": "markdown",
   "metadata": {},
   "source": []
  }
 ],
 "metadata": {
  "kernelspec": {
   "display_name": "Python 3",
   "language": "python",
   "name": "python3"
  },
  "language_info": {
   "codemirror_mode": {
    "name": "ipython",
    "version": 3
   },
   "file_extension": ".py",
   "mimetype": "text/x-python",
   "name": "python",
   "nbconvert_exporter": "python",
   "pygments_lexer": "ipython3",
   "version": "3.13.3"
  }
 },
 "nbformat": 4,
 "nbformat_minor": 4
}
